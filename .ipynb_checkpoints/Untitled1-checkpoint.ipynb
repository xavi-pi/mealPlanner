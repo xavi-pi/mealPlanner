{
 "cells": [
  {
   "cell_type": "code",
   "execution_count": 42,
   "id": "worthy-discretion",
   "metadata": {},
   "outputs": [],
   "source": [
    "#!/usr/bin/env python3\n",
    "\n",
    "import pandas as pd\n",
    "import numpy as np\n",
    "import random\n",
    "from datetime import date, datetime\n",
    "from collections import defaultdict\n",
    "\n",
    "\n",
    "Y = 2000  # dummy leap year to allow input X-02-29 (leap day)\n",
    "seasons = [('winter', (date(Y,  1,  1),  date(Y,  3, 20))),\n",
    "           ('spring', (date(Y,  3, 21),  date(Y,  6, 20))),\n",
    "           ('summer', (date(Y,  6, 21),  date(Y,  9, 22))),\n",
    "           ('autumn', (date(Y,  9, 23),  date(Y, 12, 20))),\n",
    "           ('winter', (date(Y, 12, 21),  date(Y, 12, 31)))]\n",
    "\n",
    "\n",
    "def get_season(now: datetime.date) -> str:\n",
    "    if isinstance(now, datetime):\n",
    "        now = now.date()\n",
    "    now = now.replace(year=Y)\n",
    "    return next(season for season, (start, end) in seasons\n",
    "                if start <= now <= end)\n",
    "\n",
    "\n",
    "def select_one_recipe() -> int:\n",
    "    # get season\n",
    "    current_season = get_season(date.today())\n",
    "    seasons = [current_season, 'all-year']\n",
    "    # crop df\n",
    "    recipe_df = pd.read_excel('main/recipes.xlsx', sheet_name='recipe')\n",
    "    recipe_df = recipe_df[recipe_df['season'].isin(seasons)]\n",
    "    # select recipe\n",
    "    id_lst = recipe_df.recipe_id.tolist()\n",
    "    recipe_id = int(random.choice(id_lst))\n",
    "    return recipe_id\n",
    "\n",
    "\n",
    "def create_menu(recipe_ids: list) -> pd.DataFrame:\n",
    "    menu_df = pd.read_excel('main/recipes.xlsx', sheet_name='recipe')\n",
    "    menu_df = menu_df[menu_df['recipe_id'].isin(recipe_ids)]\n",
    "    return menu_df\n",
    "\n",
    "\n",
    "def gather_ingredients(recipe_ids: list) -> pd.DataFrame:\n",
    "    # group ingredients by recipe\n",
    "    grouped_ingredients = pd.read_excel('main/recipes.xlsx', sheet_name='recipe_ingredients')\n",
    "    grouped_ingredients = grouped_ingredients[grouped_ingredients['recipe_id'].isin(recipe_ids)]\n",
    "    # add repeated ingredients\n",
    "    menu_ingredients = grouped_ingredients.groupby(['measurement_id','ingredient_name', 'recipe_id']).sum()\n",
    "    menu_ingredients = menu_ingredients.reset_index()\n",
    "    ingredients_df = pd.read_excel('main/recipes.xlsx', sheet_name='ingredients')\n",
    "    menu_ingredients = pd.merge(menu_ingredients, ingredients_df, how='inner', on = 'ingredient_name')\n",
    "    menu_ingredients['measurement_qty'].replace(' ', np.nan, inplace=True)\n",
    "    menu_ingredients.dropna(subset=['measurement_qty'], inplace=True)\n",
    "    return menu_ingredients\n",
    "\n",
    "\n",
    "def calc_leftovers(menu: pd.DataFrame) -> pd.DataFrame:\n",
    "    leftovers_df = menu[menu['pantry'] == False][['ingredient_name', 'measurement_qty']]\n",
    "    leftovers_df['measurement_qty'].replace('', np.nan, inplace=True)\n",
    "    leftovers_df.dropna(subset=['measurement_qty'], inplace=True)\n",
    "    leftovers_df['measurement_qty'] = leftovers_df['measurement_qty'].astype(float)\n",
    "    leftovers_df['qty_rounded'] = leftovers_df['measurement_qty'].apply(np.ceil)\n",
    "    leftovers_qty = leftovers_df['qty_rounded'].sum() - leftovers_df['measurement_qty'].sum()\n",
    "    return leftovers_qty\n",
    "\n",
    "def is_whole(d):\n",
    "    \"\"\"Whether or not d is a whole number.\"\"\"\n",
    "    return isinstance(d, int) or (isinstance(d, float) and d.is_integer())\n",
    "\n",
    "def select_recipes(no_recipes:int, base_recipe:float) -> list:\n",
    "    if no_recipes == 1:\n",
    "        return [base_recipe]\n",
    "    else:\n",
    "        seasons = [get_season(date.today()), 'all-year']\n",
    "        # crop df\n",
    "        recipe_df = pd.read_excel('main/recipes.xlsx', sheet_name='recipe')\n",
    "        recipe_df = recipe_df[recipe_df['season'].isin(seasons)]\n",
    "        possible_recipes = recipe_df['recipe_id'].tolist()\n",
    "        possible_menu_combo = [random.sample(possible_recipes, no_recipes-1) for _ in range(7)]\n",
    "        for menu in possible_menu_combo:\n",
    "            menu.append(base_recipe)\n",
    "        menus_dict = defaultdict(list)\n",
    "        for menu in possible_menu_combo:\n",
    "            ingredients = gather_ingredients(menu)\n",
    "            menu_lefover = calc_leftovers(ingredients)\n",
    "            menus_dict[menu_lefover].append(str(menu))\n",
    "        least_leftover_qty = min(list(menus_dict.keys()))\n",
    "        least_leftover_menus = menus_dict[least_leftover_qty]\n",
    "        least_leftover_menu = random.choice(least_leftover_menus).strip('][').split(', ')\n",
    "        return least_leftover_menu"
   ]
  },
  {
   "cell_type": "code",
   "execution_count": 43,
   "id": "nuclear-masters",
   "metadata": {
    "scrolled": true
   },
   "outputs": [
    {
     "name": "stderr",
     "output_type": "stream",
     "text": [
      "/Library/Frameworks/Python.framework/Versions/3.9/lib/python3.9/site-packages/openpyxl/worksheet/_reader.py:312: UserWarning: Data Validation extension is not supported and will be removed\n",
      "  warn(msg)\n",
      "/Library/Frameworks/Python.framework/Versions/3.9/lib/python3.9/site-packages/openpyxl/worksheet/_reader.py:312: UserWarning: Data Validation extension is not supported and will be removed\n",
      "  warn(msg)\n",
      "/Library/Frameworks/Python.framework/Versions/3.9/lib/python3.9/site-packages/openpyxl/worksheet/_reader.py:312: UserWarning: Data Validation extension is not supported and will be removed\n",
      "  warn(msg)\n",
      "/Library/Frameworks/Python.framework/Versions/3.9/lib/python3.9/site-packages/openpyxl/worksheet/_reader.py:312: UserWarning: Data Validation extension is not supported and will be removed\n",
      "  warn(msg)\n",
      "/Library/Frameworks/Python.framework/Versions/3.9/lib/python3.9/site-packages/openpyxl/worksheet/_reader.py:312: UserWarning: Data Validation extension is not supported and will be removed\n",
      "  warn(msg)\n",
      "/Library/Frameworks/Python.framework/Versions/3.9/lib/python3.9/site-packages/openpyxl/worksheet/_reader.py:312: UserWarning: Data Validation extension is not supported and will be removed\n",
      "  warn(msg)\n",
      "/Library/Frameworks/Python.framework/Versions/3.9/lib/python3.9/site-packages/openpyxl/worksheet/_reader.py:312: UserWarning: Data Validation extension is not supported and will be removed\n",
      "  warn(msg)\n"
     ]
    },
    {
     "data": {
      "text/plain": [
       "['31.0', '6.0', '33.0', '36.0', '5.0']"
      ]
     },
     "execution_count": 43,
     "metadata": {},
     "output_type": "execute_result"
    }
   ],
   "source": [
    "select_recipes(5, 5.0)"
   ]
  },
  {
   "cell_type": "code",
   "execution_count": 39,
   "id": "interpreted-trainer",
   "metadata": {},
   "outputs": [],
   "source": [
    "s = '[30.0, 33.0, 5.0, 25.0, 5.0]'"
   ]
  },
  {
   "cell_type": "code",
   "execution_count": 41,
   "id": "welcome-virtue",
   "metadata": {},
   "outputs": [
    {
     "data": {
      "text/plain": [
       "['30.0', '33.0', '5.0', '25.0', '5.0']"
      ]
     },
     "execution_count": 41,
     "metadata": {},
     "output_type": "execute_result"
    }
   ],
   "source": [
    "s.strip('][').split(', ')"
   ]
  },
  {
   "cell_type": "code",
   "execution_count": null,
   "id": "noted-whole",
   "metadata": {},
   "outputs": [],
   "source": []
  }
 ],
 "metadata": {
  "kernelspec": {
   "display_name": "local-venv",
   "language": "python",
   "name": "local-venv"
  },
  "language_info": {
   "codemirror_mode": {
    "name": "ipython",
    "version": 3
   },
   "file_extension": ".py",
   "mimetype": "text/x-python",
   "name": "python",
   "nbconvert_exporter": "python",
   "pygments_lexer": "ipython3",
   "version": "3.9.0"
  }
 },
 "nbformat": 4,
 "nbformat_minor": 5
}
