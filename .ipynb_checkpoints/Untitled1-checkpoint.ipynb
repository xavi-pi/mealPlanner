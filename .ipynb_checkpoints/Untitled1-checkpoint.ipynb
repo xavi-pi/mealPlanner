{
 "cells": [
  {
   "cell_type": "code",
   "execution_count": 35,
   "id": "worthy-discretion",
   "metadata": {},
   "outputs": [],
   "source": [
    "import pandas as pd\n",
    "import main.email_commons as ec\n",
    "import datetime\n",
    "\n",
    "def create_subject_line():\n",
    "    date = datetime.datetime.now().strftime(\"%Y%m%d\")\n",
    "    subject_line = f\"Food Ideas for {date}\"\n",
    "    return subject_line\n",
    "\n",
    "def create_email(menu_df: pd.DataFrame, ingredients_df: pd.DataFrame):\n",
    "        recipients_email_list = ['test@blah', 'blah@test']\n",
    "        subject_line = create_subject_line()\n",
    "        body_path = ec.create_body('./main/menu_email_template.html', menu_df, ingredients_df)\n",
    "        email_json_path = ec.create_email_json(recipients_email_list, body_path, subject_line)\n",
    "        return body_path, email_json_path\n",
    "\n",
    "menu_df = pd.read_csv('./test/test_menu_df.csv')\n",
    "\n",
    "ingredients_df = pd.read_csv('./test/test_ingredients_df.csv')"
   ]
  },
  {
   "cell_type": "code",
   "execution_count": 36,
   "id": "fb031776",
   "metadata": {},
   "outputs": [
    {
     "ename": "FileNotFoundError",
     "evalue": "[Errno 2] No such file or directory: '../email_archive/menu_email_template_20220722.html'",
     "output_type": "error",
     "traceback": [
      "\u001b[0;31m---------------------------------------------------------------------------\u001b[0m",
      "\u001b[0;31mFileNotFoundError\u001b[0m                         Traceback (most recent call last)",
      "\u001b[0;32m/var/folders/2b/f46xyc7n6v713p6k5r72xpbr9drhvq/T/ipykernel_73346/2966684955.py\u001b[0m in \u001b[0;36m<module>\u001b[0;34m\u001b[0m\n\u001b[0;32m----> 1\u001b[0;31m \u001b[0mcreate_email\u001b[0m\u001b[0;34m(\u001b[0m\u001b[0mmenu_df\u001b[0m\u001b[0;34m,\u001b[0m \u001b[0mingredients_df\u001b[0m\u001b[0;34m)\u001b[0m\u001b[0;34m\u001b[0m\u001b[0;34m\u001b[0m\u001b[0m\n\u001b[0m",
      "\u001b[0;32m/var/folders/2b/f46xyc7n6v713p6k5r72xpbr9drhvq/T/ipykernel_73346/1932830388.py\u001b[0m in \u001b[0;36mcreate_email\u001b[0;34m(menu_df, ingredients_df)\u001b[0m\n\u001b[1;32m     11\u001b[0m         \u001b[0mrecipients_email_list\u001b[0m \u001b[0;34m=\u001b[0m \u001b[0;34m[\u001b[0m\u001b[0;34m'test@blah'\u001b[0m\u001b[0;34m,\u001b[0m \u001b[0;34m'blah@test'\u001b[0m\u001b[0;34m]\u001b[0m\u001b[0;34m\u001b[0m\u001b[0;34m\u001b[0m\u001b[0m\n\u001b[1;32m     12\u001b[0m         \u001b[0msubject_line\u001b[0m \u001b[0;34m=\u001b[0m \u001b[0mcreate_subject_line\u001b[0m\u001b[0;34m(\u001b[0m\u001b[0;34m)\u001b[0m\u001b[0;34m\u001b[0m\u001b[0;34m\u001b[0m\u001b[0m\n\u001b[0;32m---> 13\u001b[0;31m         \u001b[0mbody_path\u001b[0m \u001b[0;34m=\u001b[0m \u001b[0mec\u001b[0m\u001b[0;34m.\u001b[0m\u001b[0mcreate_body\u001b[0m\u001b[0;34m(\u001b[0m\u001b[0;34m'./main/menu_email_template.html'\u001b[0m\u001b[0;34m,\u001b[0m \u001b[0mmenu_df\u001b[0m\u001b[0;34m,\u001b[0m \u001b[0mingredients_df\u001b[0m\u001b[0;34m)\u001b[0m\u001b[0;34m\u001b[0m\u001b[0;34m\u001b[0m\u001b[0m\n\u001b[0m\u001b[1;32m     14\u001b[0m         \u001b[0memail_json_path\u001b[0m \u001b[0;34m=\u001b[0m \u001b[0mec\u001b[0m\u001b[0;34m.\u001b[0m\u001b[0mcreate_email_json\u001b[0m\u001b[0;34m(\u001b[0m\u001b[0mrecipients_email_list\u001b[0m\u001b[0;34m,\u001b[0m \u001b[0mbody_path\u001b[0m\u001b[0;34m,\u001b[0m \u001b[0msubject_line\u001b[0m\u001b[0;34m)\u001b[0m\u001b[0;34m\u001b[0m\u001b[0;34m\u001b[0m\u001b[0m\n\u001b[1;32m     15\u001b[0m         \u001b[0;32mreturn\u001b[0m \u001b[0mbody_path\u001b[0m\u001b[0;34m,\u001b[0m \u001b[0memail_json_path\u001b[0m\u001b[0;34m\u001b[0m\u001b[0;34m\u001b[0m\u001b[0m\n",
      "\u001b[0;32m~/MealPlanner/mealPlanner/main/email_commons.py\u001b[0m in \u001b[0;36mcreate_body\u001b[0;34m(path_html_template, menu_df, ingredients_df)\u001b[0m\n\u001b[1;32m     25\u001b[0m     \u001b[0mhtml_doc\u001b[0m \u001b[0;34m=\u001b[0m \u001b[0mhtml_doc\u001b[0m\u001b[0;34m.\u001b[0m\u001b[0mreplace\u001b[0m\u001b[0;34m(\u001b[0m\u001b[0;34m'{PREHEADER}'\u001b[0m\u001b[0;34m,\u001b[0m \u001b[0mpreheader\u001b[0m\u001b[0;34m)\u001b[0m\u001b[0;34m\u001b[0m\u001b[0;34m\u001b[0m\u001b[0m\n\u001b[1;32m     26\u001b[0m     \u001b[0mhtml_doc\u001b[0m \u001b[0;34m=\u001b[0m \u001b[0mhtml_doc\u001b[0m\u001b[0;34m.\u001b[0m\u001b[0mreplace\u001b[0m\u001b[0;34m(\u001b[0m\u001b[0;34m'{MENU_TABLE}'\u001b[0m\u001b[0;34m,\u001b[0m \u001b[0mmenu_df\u001b[0m\u001b[0;34m.\u001b[0m\u001b[0mto_html\u001b[0m\u001b[0;34m(\u001b[0m\u001b[0;34m)\u001b[0m\u001b[0;34m)\u001b[0m\u001b[0;34m\u001b[0m\u001b[0;34m\u001b[0m\u001b[0m\n\u001b[0;32m---> 27\u001b[0;31m     \u001b[0mhtml_doc\u001b[0m \u001b[0;34m=\u001b[0m \u001b[0mhtml_doc\u001b[0m\u001b[0;34m.\u001b[0m\u001b[0mreplace\u001b[0m\u001b[0;34m(\u001b[0m\u001b[0;34m'{INGREDIENTS_TABLE}'\u001b[0m\u001b[0;34m,\u001b[0m \u001b[0mingredients_df\u001b[0m\u001b[0;34m.\u001b[0m\u001b[0mto_html\u001b[0m\u001b[0;34m(\u001b[0m\u001b[0;34m)\u001b[0m\u001b[0;34m)\u001b[0m\u001b[0;34m\u001b[0m\u001b[0;34m\u001b[0m\u001b[0m\n\u001b[0m\u001b[1;32m     28\u001b[0m     \u001b[0mdate\u001b[0m \u001b[0;34m=\u001b[0m \u001b[0mdatetime\u001b[0m\u001b[0;34m.\u001b[0m\u001b[0mdatetime\u001b[0m\u001b[0;34m.\u001b[0m\u001b[0mnow\u001b[0m\u001b[0;34m(\u001b[0m\u001b[0;34m)\u001b[0m\u001b[0;34m.\u001b[0m\u001b[0mstrftime\u001b[0m\u001b[0;34m(\u001b[0m\u001b[0;34m\"%Y%m%d\"\u001b[0m\u001b[0;34m)\u001b[0m\u001b[0;34m\u001b[0m\u001b[0;34m\u001b[0m\u001b[0m\n\u001b[1;32m     29\u001b[0m     \u001b[0mprint\u001b[0m \u001b[0;34m(\u001b[0m\u001b[0mdate\u001b[0m\u001b[0;34m)\u001b[0m\u001b[0;34m\u001b[0m\u001b[0;34m\u001b[0m\u001b[0m\n",
      "\u001b[0;31mFileNotFoundError\u001b[0m: [Errno 2] No such file or directory: '../email_archive/menu_email_template_20220722.html'"
     ]
    }
   ],
   "source": [
    "create_email(menu_df, ingredients_df)"
   ]
  },
  {
   "cell_type": "code",
   "execution_count": null,
   "id": "151c110b",
   "metadata": {},
   "outputs": [],
   "source": []
  },
  {
   "cell_type": "code",
   "execution_count": null,
   "id": "42dd9f9b",
   "metadata": {},
   "outputs": [],
   "source": []
  }
 ],
 "metadata": {
  "kernelspec": {
   "display_name": "local-venv",
   "language": "python",
   "name": "local-venv"
  },
  "language_info": {
   "codemirror_mode": {
    "name": "ipython",
    "version": 3
   },
   "file_extension": ".py",
   "mimetype": "text/x-python",
   "name": "python",
   "nbconvert_exporter": "python",
   "pygments_lexer": "ipython3",
   "version": "3.9.0"
  }
 },
 "nbformat": 4,
 "nbformat_minor": 5
}
